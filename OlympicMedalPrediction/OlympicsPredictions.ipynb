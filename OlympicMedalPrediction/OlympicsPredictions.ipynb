{
 "cells": [
  {
   "cell_type": "markdown",
   "metadata": {
    "colab_type": "text",
    "id": "view-in-github"
   },
   "source": [
    "<a href=\"https://colab.research.google.com/github/AyonChatterjee/ML-Projects-/blob/main/OlympicsPredictions.ipynb\" target=\"_parent\"><img src=\"https://colab.research.google.com/assets/colab-badge.svg\" alt=\"Open In Colab\"/></a>"
   ]
  },
  {
   "cell_type": "markdown",
   "metadata": {},
   "source": [
    "Importing all the necessary libraries"
   ]
  },
  {
   "cell_type": "code",
   "execution_count": 60,
   "metadata": {
    "colab": {
     "base_uri": "https://localhost:8080/",
     "height": 226
    },
    "id": "EQWcmgoGpLt2",
    "outputId": "763dccd7-6dff-4cfe-e534-4cd46c4ddaeb"
   },
   "outputs": [],
   "source": [
    "import pandas as pd\n",
    "from sklearn.model_selection import train_test_split , GridSearchCV\n",
    "from sklearn.preprocessing import OneHotEncoder , LabelEncoder\n",
    "from sklearn.linear_model import LinearRegression , Ridge , Lasso\n",
    "from sklearn.tree import DecisionTreeRegressor\n",
    "from sklearn.ensemble import RandomForestRegressor\n",
    "from sklearn.metrics import mean_squared_error , r2_score\n"
   ]
  },
  {
   "cell_type": "code",
   "execution_count": 66,
   "metadata": {
    "colab": {
     "base_uri": "https://localhost:8080/",
     "height": 206
    },
    "id": "49RjomhNyRzG",
    "outputId": "4816a42e-4faa-4c0c-ec72-b9be9d81ac75"
   },
   "outputs": [
    {
     "data": {
      "text/plain": [
       "(2144, 11)"
      ]
     },
     "execution_count": 66,
     "metadata": {},
     "output_type": "execute_result"
    }
   ],
   "source": [
    "#Loading the dataset\n",
    "\n",
    "data = pd.read_csv(\"teams.csv\")\n",
    "data.shape"
   ]
  },
  {
   "cell_type": "code",
   "execution_count": 68,
   "metadata": {
    "colab": {
     "base_uri": "https://localhost:8080/"
    },
    "id": "MBvfw7VU0iIO",
    "outputId": "337d75e7-8ea5-4242-ff55-9ebe25098ade"
   },
   "outputs": [],
   "source": [
    "X = data.drop(\"medals\" , axis = 1)\n",
    "y = data[\"medals\"]"
   ]
  },
  {
   "cell_type": "code",
   "execution_count": 67,
   "metadata": {
    "colab": {
     "base_uri": "https://localhost:8080/"
    },
    "id": "Tli838KwRYTo",
    "outputId": "7005f901-f908-4874-a571-fc681b12c205"
   },
   "outputs": [
    {
     "name": "stdout",
     "output_type": "stream",
     "text": [
      "Training set size : (1715, 10) , Testing set size : (429, 10)\n"
     ]
    }
   ],
   "source": [
    "# Train-test split (80% train , 20% test)\n",
    "X_train , X_test , y_train , y_test = train_test_split(X , y , test_size=0.2)\n",
    "print(f\"Training set size : {X_train.shape} , Testing set size : {X_test.shape}\")"
   ]
  },
  {
   "cell_type": "code",
   "execution_count": 69,
   "metadata": {
    "colab": {
     "base_uri": "https://localhost:8080/",
     "height": 441
    },
    "id": "fuPyAMXV1iv8",
    "outputId": "1907f9a6-cf53-412e-9903-aa18c5551ae7"
   },
   "outputs": [],
   "source": [
    "# Encoding for categorical features "
   ]
  }
 ],
 "metadata": {
  "colab": {
   "authorship_tag": "ABX9TyNIl8VVJd3FGP8qY5QgvFd8",
   "include_colab_link": true,
   "provenance": []
  },
  "kernelspec": {
   "display_name": "Python 3",
   "name": "python3"
  },
  "language_info": {
   "codemirror_mode": {
    "name": "ipython",
    "version": 3
   },
   "file_extension": ".py",
   "mimetype": "text/x-python",
   "name": "python",
   "nbconvert_exporter": "python",
   "pygments_lexer": "ipython3",
   "version": "3.12.5"
  }
 },
 "nbformat": 4,
 "nbformat_minor": 0
}
